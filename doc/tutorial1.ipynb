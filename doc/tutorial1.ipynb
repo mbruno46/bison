{
 "cells": [
  {
   "cell_type": "markdown",
   "metadata": {},
   "source": [
    "# Getting started"
   ]
  },
  {
   "cell_type": "code",
   "execution_count": 1,
   "metadata": {},
   "outputs": [],
   "source": [
    "import bison"
   ]
  },
  {
   "cell_type": "markdown",
   "metadata": {},
   "source": [
    "We create some random data using basic types"
   ]
  },
  {
   "cell_type": "code",
   "execution_count": 2,
   "metadata": {},
   "outputs": [],
   "source": [
    "alist = [3,4,5]\n",
    "atuple = (5,6,7)\n",
    "astr = 'hello there'\n",
    "alist2 = [5+1.2j, 6, .45687]"
   ]
  },
  {
   "cell_type": "markdown",
   "metadata": {},
   "source": [
    "We save all this data together in a single file using `bison` and check it"
   ]
  },
  {
   "cell_type": "code",
   "execution_count": 3,
   "metadata": {},
   "outputs": [
    {
     "name": "stdout",
     "output_type": "stream",
     "text": [
      "[Bison]: Written 0.000639915 MB at 0.747632 MB/s\n"
     ]
    }
   ],
   "source": [
    "bison.save('testfile.dat', alist, atuple, astr, alist2)"
   ]
  },
  {
   "cell_type": "code",
   "execution_count": 4,
   "metadata": {},
   "outputs": [
    {
     "name": "stdout",
     "output_type": "stream",
     "text": [
      "-rw-r--r--  1 mbruno  staff  671 Oct 27 00:30 testfile.dat\r\n"
     ]
    }
   ],
   "source": [
    "!ls -al testfile.dat"
   ]
  },
  {
   "cell_type": "markdown",
   "metadata": {},
   "source": [
    "Let's reload the data from the saved file."
   ]
  },
  {
   "cell_type": "code",
   "execution_count": 5,
   "metadata": {},
   "outputs": [
    {
     "name": "stdout",
     "output_type": "stream",
     "text": [
      "[Bison]: Reading file testfile.dat\n",
      "[Bison]: File created by mbruno at macthxbruno.local on Tue Oct 27 00:30:17 2020\n",
      "[Bison]: Read 0.000639915 MB at 1.73273 MB/s\n"
     ]
    }
   ],
   "source": [
    "data = bison.load('testfile.dat')"
   ]
  },
  {
   "cell_type": "markdown",
   "metadata": {},
   "source": [
    "Note that `data` is a `list` whose elements correspond to the elements originally passed to `bison.save`. The order is preserved!"
   ]
  },
  {
   "cell_type": "code",
   "execution_count": 6,
   "metadata": {},
   "outputs": [
    {
     "name": "stdout",
     "output_type": "stream",
     "text": [
      "[[3, 4, 5], (5, 6, 7), 'hello there', [(5+1.2j), 6, 0.45687]]\n"
     ]
    }
   ],
   "source": [
    "print(data)"
   ]
  },
  {
   "cell_type": "markdown",
   "metadata": {},
   "source": [
    "## numpy arrays, where the fun begins\n",
    "\n",
    "The package is designed to optimize IO performances with large datasets, stored as `numpy.array`. Note that **only** the content of numpy arrays is stored in binary format."
   ]
  },
  {
   "cell_type": "code",
   "execution_count": 7,
   "metadata": {},
   "outputs": [
    {
     "name": "stdout",
     "output_type": "stream",
     "text": [
      "[Bison]: Written 3.92557 MB at 2452.34 MB/s\n"
     ]
    }
   ],
   "source": [
    "import numpy\n",
    "\n",
    "# a simple array of integers\n",
    "arr1 = numpy.arange(450)\n",
    "\n",
    "# we change the format\n",
    "arr2 = numpy.arange(1000,9000,2).astype('i4')\n",
    "\n",
    "# complex and arbitrary shape\n",
    "Na = 256\n",
    "tmp = numpy.random.rand(Na*2*1000)\n",
    "arr3 = tmp[0::2] + complex(0.,1.)*tmp[1::2]\n",
    "arr3 = numpy.reshape(arr3, (Na,1000))\n",
    "\n",
    "bison.save('arrays',arr1,arr2,arr3)"
   ]
  },
  {
   "cell_type": "code",
   "execution_count": 8,
   "metadata": {},
   "outputs": [
    {
     "name": "stdout",
     "output_type": "stream",
     "text": [
      "[Bison]: Reading file arrays\n",
      "[Bison]: File created by mbruno at macthxbruno.local on Tue Oct 27 00:30:22 2020\n",
      "[Bison]: Read 3.92557 MB at 1856.89 MB/s\n"
     ]
    }
   ],
   "source": [
    "res = bison.load('arrays')"
   ]
  },
  {
   "cell_type": "markdown",
   "metadata": {},
   "source": [
    "Note how the `dtype` of numpy arrays is preserved, as well as their shape."
   ]
  },
  {
   "cell_type": "code",
   "execution_count": 9,
   "metadata": {},
   "outputs": [
    {
     "name": "stdout",
     "output_type": "stream",
     "text": [
      "int32\n",
      "(256, 1000) complex128\n"
     ]
    }
   ],
   "source": [
    "print(res[1].dtype)\n",
    "print(res[2].shape, res[2].dtype)"
   ]
  },
  {
   "cell_type": "markdown",
   "metadata": {},
   "source": [
    "### tag fields via dictionaries\n",
    "\n",
    "When we use `bison.save` the name of the field is lost and the user has to remember the order in which the various arguments where passed. Dictionaries are the elegant way to circumvent this problem"
   ]
  },
  {
   "cell_type": "code",
   "execution_count": 10,
   "metadata": {},
   "outputs": [
    {
     "name": "stdout",
     "output_type": "stream",
     "text": [
      "[Bison]: Written 3.92599 MB at 2190.9 MB/s\n"
     ]
    }
   ],
   "source": [
    "d = {}\n",
    "d['myarray1'] = arr1\n",
    "d['mycomplexarray'] = arr3\n",
    "d['alist'] = alist\n",
    "d['nested'] = {'atuple': atuple, 'myarr2': arr2}\n",
    "\n",
    "bison.save('arrays_with_dict',d)"
   ]
  },
  {
   "cell_type": "code",
   "execution_count": 11,
   "metadata": {},
   "outputs": [
    {
     "name": "stdout",
     "output_type": "stream",
     "text": [
      "[Bison]: Reading file arrays_with_dict\n",
      "[Bison]: File created by mbruno at macthxbruno.local on Tue Oct 27 00:30:28 2020\n",
      "[Bison]: Read 3.92599 MB at 1749.55 MB/s\n"
     ]
    }
   ],
   "source": [
    "res = bison.load('arrays_with_dict')"
   ]
  },
  {
   "cell_type": "code",
   "execution_count": 12,
   "metadata": {},
   "outputs": [
    {
     "name": "stdout",
     "output_type": "stream",
     "text": [
      "dict_keys(['myarray1', 'mycomplexarray', 'alist', 'nested'])\n"
     ]
    }
   ],
   "source": [
    "print(res.keys())"
   ]
  },
  {
   "cell_type": "markdown",
   "metadata": {},
   "source": [
    "Using dictionaries naturally allows hierarchical storage"
   ]
  },
  {
   "cell_type": "code",
   "execution_count": 13,
   "metadata": {},
   "outputs": [
    {
     "data": {
      "text/plain": [
       "array([1000, 1002, 1004, ..., 8994, 8996, 8998], dtype=int32)"
      ]
     },
     "execution_count": 13,
     "metadata": {},
     "output_type": "execute_result"
    }
   ],
   "source": [
    "res['nested']['myarr2']"
   ]
  },
  {
   "cell_type": "markdown",
   "metadata": {},
   "source": [
    "## custom classes\n",
    "\n",
    "Clearly this library would be incomplete if it did not support user-defined classes!"
   ]
  },
  {
   "cell_type": "code",
   "execution_count": 14,
   "metadata": {},
   "outputs": [],
   "source": [
    "class A:\n",
    "    def __init__(self,n,m):\n",
    "        self.n = n*m\n",
    "        self.numbers = [n,m]\n",
    "        \n",
    "    def __call__(self):\n",
    "        print('numbers = ', self.numbers)"
   ]
  },
  {
   "cell_type": "code",
   "execution_count": 15,
   "metadata": {},
   "outputs": [
    {
     "name": "stdout",
     "output_type": "stream",
     "text": [
      "numbers =  [45, 6.789]\n"
     ]
    }
   ],
   "source": [
    "aclass = A(45,6.789)\n",
    "aclass()"
   ]
  },
  {
   "cell_type": "code",
   "execution_count": 16,
   "metadata": {},
   "outputs": [
    {
     "name": "stdout",
     "output_type": "stream",
     "text": [
      "[Bison]: Written 0.000396729 MB at 0.668005 MB/s\n"
     ]
    }
   ],
   "source": [
    "bison.save('classes',aclass)"
   ]
  },
  {
   "cell_type": "markdown",
   "metadata": {},
   "source": [
    "If we use `bison.load` in the simplest way the returned object is not the class `A`, but a dictionary with the fields of the class that we originally passed."
   ]
  },
  {
   "cell_type": "code",
   "execution_count": 17,
   "metadata": {},
   "outputs": [
    {
     "name": "stdout",
     "output_type": "stream",
     "text": [
      "[Bison]: Reading file classes\n",
      "[Bison]: File created by mbruno at macthxbruno.local on Tue Oct 27 00:30:38 2020\n",
      "[Bison]: Read 0.000396729 MB at 1.19885 MB/s\n",
      "\n",
      "result from reading ===  {'____main__.A__': {'n': 305.505, 'numbers': [45, 6.789]}}\n"
     ]
    }
   ],
   "source": [
    "res = bison.load('classes')\n",
    "print('\\nresult from reading === ',res)"
   ]
  },
  {
   "cell_type": "markdown",
   "metadata": {},
   "source": [
    "In order to interpret the dictionary as our class we need to instruct bison. To do so we simply need to construct a class that we will pass to `bison.load` as additional input!"
   ]
  },
  {
   "cell_type": "code",
   "execution_count": 18,
   "metadata": {},
   "outputs": [
    {
     "name": "stdout",
     "output_type": "stream",
     "text": [
      "[Bison]: Reading file classes\n",
      "[Bison]: File created by mbruno at macthxbruno.local on Tue Oct 27 00:30:38 2020\n",
      "[Bison]: Read 0.000396729 MB at 1.1954 MB/s\n"
     ]
    }
   ],
   "source": [
    "class decodeA(bison.Decoder):\n",
    "    def __init__(self):\n",
    "        super().__init__('__main__.A') # here we must initialize bison.Decoder with the module.name of the class\n",
    "        \n",
    "    def decode(self, obj):\n",
    "        return A(obj['numbers'][0],obj['numbers'][1])\n",
    "    \n",
    "res2 = bison.load('classes', decoder=decodeA)"
   ]
  },
  {
   "cell_type": "markdown",
   "metadata": {},
   "source": [
    "If our decoder has been properly interpreted the dictionary then `res2` should be a fully fledged class of type `A` including its methods. Let's try"
   ]
  },
  {
   "cell_type": "code",
   "execution_count": 19,
   "metadata": {},
   "outputs": [
    {
     "name": "stdout",
     "output_type": "stream",
     "text": [
      "numbers =  [45, 6.789]\n"
     ]
    }
   ],
   "source": [
    "res2()"
   ]
  },
  {
   "cell_type": "code",
   "execution_count": 20,
   "metadata": {},
   "outputs": [],
   "source": [
    "# final clean up\n",
    "!rm testfile.dat arrays arrays_with_dict classes"
   ]
  }
 ],
 "metadata": {
  "kernelspec": {
   "display_name": "Python 3",
   "language": "python",
   "name": "python3"
  },
  "language_info": {
   "codemirror_mode": {
    "name": "ipython",
    "version": 3
   },
   "file_extension": ".py",
   "mimetype": "text/x-python",
   "name": "python",
   "nbconvert_exporter": "python",
   "pygments_lexer": "ipython3",
   "version": "3.7.7"
  }
 },
 "nbformat": 4,
 "nbformat_minor": 4
}
