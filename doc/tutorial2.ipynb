{
 "cells": [
  {
   "cell_type": "markdown",
   "metadata": {},
   "source": [
    "# Sequential writing"
   ]
  },
  {
   "cell_type": "code",
   "execution_count": 1,
   "metadata": {},
   "outputs": [],
   "source": [
    "import bison\n",
    "import numpy"
   ]
  },
  {
   "cell_type": "markdown",
   "metadata": {},
   "source": [
    "Let's initialize an empty bison file in writing mode"
   ]
  },
  {
   "cell_type": "code",
   "execution_count": 2,
   "metadata": {},
   "outputs": [],
   "source": [
    "f = bison.FILE('test', mode='w')"
   ]
  },
  {
   "cell_type": "markdown",
   "metadata": {},
   "source": [
    "Let's write some data into our bison file. To do so we simply invoke the 'write' method of the 'FILE' class with an additional string, namely a unique tag, to label the content of the data"
   ]
  },
  {
   "cell_type": "code",
   "execution_count": 3,
   "metadata": {},
   "outputs": [
    {
     "name": "stdout",
     "output_type": "stream",
     "text": [
      "[Bison] : T with 6.67572e-06 MB written at 0.0132388 MB/s\n",
      "[Bison] : ncorr with 9.53674e-06 MB written at 0.0158416 MB/s\n",
      "[Bison] : desc with 3.62396e-05 MB written at 0.0661445 MB/s\n"
     ]
    }
   ],
   "source": [
    "T = 96\n",
    "Nc = 5\n",
    "\n",
    "f.write('T',T)\n",
    "f.write('ncorr', Nc)\n",
    "f.write('desc', 'a string describing the data')"
   ]
  },
  {
   "cell_type": "markdown",
   "metadata": {},
   "source": [
    "We imagine to have a function which performs a calculation that takes long time"
   ]
  },
  {
   "cell_type": "code",
   "execution_count": 4,
   "metadata": {},
   "outputs": [],
   "source": [
    "def test_func(n):\n",
    "    return numpy.random.rand(96*n).reshape(n,96)"
   ]
  },
  {
   "cell_type": "markdown",
   "metadata": {},
   "source": [
    "For each instance of the calculation we write to disk the results in the bison FILE"
   ]
  },
  {
   "cell_type": "code",
   "execution_count": 5,
   "metadata": {},
   "outputs": [
    {
     "name": "stdout",
     "output_type": "stream",
     "text": [
      "[Bison] : calculation number 0 with 0.00376701 MB written at 4.21446 MB/s\n",
      "[Bison] : calculation number 1 with 0.00376701 MB written at 6.87554 MB/s\n",
      "[Bison] : calculation number 2 with 0.00376701 MB written at 12.5596 MB/s\n",
      "[Bison] : calculation number 3 with 0.00376701 MB written at 7.78325 MB/s\n",
      "[Bison] : calculation number 4 with 0.00376701 MB written at 8.92151 MB/s\n"
     ]
    }
   ],
   "source": [
    "for i in [0,1,2,3,4]:\n",
    "    dat = test_func(Nc)\n",
    "    f.write(f'calculation number {i}', dat)"
   ]
  },
  {
   "cell_type": "markdown",
   "metadata": {},
   "source": [
    "The content of the file can be easily imported by opening a new FILE instance in reading mode"
   ]
  },
  {
   "cell_type": "code",
   "execution_count": 6,
   "metadata": {},
   "outputs": [
    {
     "name": "stdout",
     "output_type": "stream",
     "text": [
      "[Bison] : Reading file test\n",
      "[Bison] : File created by mbruno at macthxbruno.local on Mon Nov 23 17:18:16 2020\n",
      "[Bison] : Read 0.0190115 MB at 12.3227 MB/s\n"
     ]
    }
   ],
   "source": [
    "ff = bison.FILE('test', mode='r')\n",
    "res = ff.read()"
   ]
  },
  {
   "cell_type": "code",
   "execution_count": 7,
   "metadata": {},
   "outputs": [
    {
     "data": {
      "text/plain": [
       "array([[6.33967703e-01, 3.63432354e-01, 2.80614417e-01, 5.43779745e-02,\n",
       "        3.73402771e-01, 2.08124015e-01, 5.08996251e-01, 4.40775073e-01,\n",
       "        3.33737937e-02, 6.73353905e-01, 8.30822956e-01, 7.95972056e-01,\n",
       "        3.34984619e-01, 6.53557977e-01, 6.53803809e-01, 2.56270819e-01,\n",
       "        6.76398658e-01, 7.94478387e-01, 1.66250463e-01, 1.26240136e-01,\n",
       "        1.02366751e-01, 8.07957732e-01, 8.91020340e-01, 5.00832718e-01,\n",
       "        3.24887865e-01, 2.43927859e-04, 5.82046200e-01, 8.52794782e-01,\n",
       "        5.11940599e-01, 3.84526514e-01, 4.83450540e-01, 6.19501272e-02,\n",
       "        4.83419556e-01, 2.84769420e-02, 8.36680462e-01, 1.04168599e-01,\n",
       "        2.54248914e-01, 3.60191568e-01, 8.47256375e-01, 6.87593278e-01,\n",
       "        7.06837287e-01, 9.87407757e-01, 4.04321108e-01, 7.70412387e-01,\n",
       "        1.11479950e-02, 9.95091036e-01, 8.64416788e-01, 2.00133852e-01,\n",
       "        4.87710604e-01, 5.27340973e-01, 4.83145513e-02, 3.41221204e-01,\n",
       "        4.25665024e-01, 3.90568077e-01, 7.61826032e-01, 2.58646607e-01,\n",
       "        5.04575919e-01, 9.82783428e-01, 3.12133345e-01, 2.35932135e-01,\n",
       "        7.32146841e-01, 9.42702301e-01, 8.86860275e-01, 1.50423086e-01,\n",
       "        9.32684747e-01, 7.87867816e-01, 3.39963019e-01, 5.72106523e-01,\n",
       "        2.53032397e-01, 4.29022477e-01, 7.70598913e-01, 4.95150622e-01,\n",
       "        2.32389360e-01, 3.83289070e-01, 7.14287772e-01, 5.09435088e-01,\n",
       "        7.49992392e-01, 2.66103612e-01, 1.13638155e-01, 1.99058379e-01,\n",
       "        7.70363630e-01, 1.12179650e-01, 5.59652804e-01, 6.45629561e-01,\n",
       "        9.50072390e-01, 8.13650897e-01, 5.43617661e-01, 1.12648410e-01,\n",
       "        3.64194772e-01, 9.08013967e-01, 5.06656623e-01, 2.11486313e-01,\n",
       "        7.98076132e-01, 3.29754308e-01, 3.77812077e-01, 8.53752840e-01],\n",
       "       [1.32630135e-01, 9.59580861e-01, 3.60098477e-01, 9.30528985e-02,\n",
       "        3.71904317e-01, 9.95173949e-01, 8.82098326e-01, 9.80587532e-01,\n",
       "        1.59990380e-01, 3.34194779e-01, 8.83213971e-01, 4.71054017e-02,\n",
       "        7.22604384e-01, 6.35522281e-01, 3.81534261e-02, 3.20843646e-01,\n",
       "        9.34140443e-01, 9.25950765e-01, 1.52571391e-01, 2.74865985e-01,\n",
       "        4.58112213e-01, 9.86109723e-01, 5.82930671e-01, 8.40992874e-01,\n",
       "        5.36283285e-01, 8.31855387e-02, 8.49517933e-01, 3.08927515e-01,\n",
       "        4.65450694e-01, 4.52371987e-01, 3.79145729e-01, 9.26653933e-01,\n",
       "        7.16750172e-01, 5.31453234e-01, 3.88054795e-01, 3.40729258e-01,\n",
       "        9.19238827e-01, 7.57523613e-01, 3.65410225e-01, 6.15484263e-01,\n",
       "        7.20152755e-01, 1.50608362e-01, 2.21710155e-01, 5.98558125e-01,\n",
       "        8.21451818e-01, 2.21440077e-01, 7.43628692e-01, 5.87721787e-01,\n",
       "        8.20729794e-01, 1.95628184e-01, 3.92595983e-01, 4.34811690e-01,\n",
       "        8.79607064e-01, 2.56410395e-01, 1.69174477e-01, 2.65747121e-01,\n",
       "        1.46619849e-01, 3.23393746e-01, 2.74704064e-01, 9.54700939e-01,\n",
       "        9.03559464e-02, 4.88028491e-01, 2.09968978e-01, 5.83398559e-01,\n",
       "        8.01145977e-02, 6.72413580e-02, 8.75817264e-01, 9.60394704e-01,\n",
       "        3.18550666e-01, 2.94283759e-01, 2.91225825e-01, 1.02910822e-02,\n",
       "        2.17617821e-01, 7.44124130e-01, 6.20156280e-01, 8.72734119e-01,\n",
       "        2.19780956e-01, 1.91773457e-01, 1.50869588e-01, 9.26915901e-01,\n",
       "        4.23287667e-01, 1.28624201e-01, 1.61997497e-02, 8.91843544e-01,\n",
       "        3.74631957e-01, 8.12941723e-01, 5.98221196e-01, 3.89617735e-01,\n",
       "        2.12017023e-01, 9.59975532e-01, 8.63106204e-01, 8.37170498e-01,\n",
       "        4.37669543e-01, 5.19582110e-01, 2.02845693e-01, 1.98197856e-01],\n",
       "       [4.71918362e-01, 8.38586752e-01, 7.14691515e-01, 9.21342909e-01,\n",
       "        7.21568354e-01, 1.67777292e-01, 4.20616894e-01, 5.68807163e-01,\n",
       "        7.89546759e-01, 4.17385463e-01, 6.21794298e-01, 7.83505749e-01,\n",
       "        2.30889102e-01, 9.15476585e-01, 2.72208528e-01, 1.12528188e-01,\n",
       "        6.95216924e-01, 6.53926848e-01, 6.47223621e-01, 5.24994768e-01,\n",
       "        3.01448004e-01, 8.54049046e-01, 7.64300629e-01, 2.01765330e-01,\n",
       "        2.16805781e-01, 3.92204755e-01, 3.90737007e-01, 6.52883347e-01,\n",
       "        2.19891127e-01, 3.33230725e-01, 1.47020856e-01, 7.84882088e-01,\n",
       "        3.32432458e-01, 9.14076412e-01, 4.58175088e-01, 5.79214249e-01,\n",
       "        2.97676406e-01, 4.87678259e-01, 5.94332135e-01, 5.22556556e-01,\n",
       "        1.10549207e-01, 5.14789073e-01, 9.78189296e-01, 2.36642622e-01,\n",
       "        6.50832755e-01, 9.15215249e-01, 4.69168246e-02, 1.91434796e-01,\n",
       "        8.33492407e-01, 1.49607614e-02, 5.51574476e-01, 1.14785947e-01,\n",
       "        6.31686664e-01, 5.90569396e-01, 4.74963843e-01, 6.49942708e-01,\n",
       "        7.65737477e-01, 2.02570348e-01, 8.58796989e-01, 8.14783742e-01,\n",
       "        2.63553129e-01, 8.48740940e-01, 4.44365295e-02, 4.95920376e-02,\n",
       "        5.42012658e-01, 9.36891538e-01, 2.38124439e-01, 6.25625646e-01,\n",
       "        5.59584422e-01, 4.00790888e-04, 7.83292138e-01, 5.49100370e-02,\n",
       "        4.05953960e-01, 7.27137476e-01, 2.55882966e-01, 6.76888399e-01,\n",
       "        1.44421320e-01, 8.19002101e-01, 6.12548064e-01, 8.05328306e-01,\n",
       "        5.10955351e-01, 3.34354068e-01, 3.19784630e-01, 8.30292191e-01,\n",
       "        5.14377220e-01, 9.89853027e-01, 4.96819186e-01, 6.80989266e-01,\n",
       "        1.22626040e-01, 9.67437971e-01, 9.50427258e-01, 4.84968175e-01,\n",
       "        1.90499529e-01, 9.10017466e-01, 6.81613681e-01, 4.46433014e-01],\n",
       "       [9.13296875e-02, 9.02756998e-01, 4.48074097e-02, 1.06183007e-01,\n",
       "        8.75210521e-02, 1.51019062e-01, 4.04971993e-02, 4.33597016e-01,\n",
       "        2.47238805e-01, 9.93486627e-01, 5.77924933e-02, 1.68600148e-01,\n",
       "        3.31506873e-01, 8.28472234e-01, 8.62839581e-03, 1.78823625e-01,\n",
       "        4.75677877e-01, 8.80782475e-01, 4.92636986e-01, 3.55328570e-01,\n",
       "        7.12771673e-01, 2.00803868e-01, 5.78621282e-01, 8.91322584e-01,\n",
       "        7.36168585e-01, 7.19562592e-01, 3.63082042e-01, 7.75163107e-01,\n",
       "        4.39578283e-01, 8.67858216e-01, 6.88318389e-01, 5.94892557e-01,\n",
       "        8.16455798e-01, 5.63095753e-01, 2.50751289e-01, 7.13196634e-01,\n",
       "        6.18832048e-02, 8.36838966e-01, 8.47212901e-01, 7.11693995e-01,\n",
       "        1.22337230e-01, 7.06080769e-01, 2.74969041e-01, 3.91932248e-01,\n",
       "        9.32570963e-01, 3.03740785e-01, 4.96024536e-01, 7.01106032e-01,\n",
       "        7.57704134e-01, 4.42923430e-01, 8.71079425e-01, 7.94322192e-01,\n",
       "        6.55535218e-02, 3.62588882e-01, 6.43423808e-01, 6.88424418e-01,\n",
       "        4.16831100e-01, 6.41593831e-02, 6.99759833e-01, 1.51368696e-01,\n",
       "        5.40130437e-02, 3.32657094e-01, 7.33657469e-01, 3.08079794e-01,\n",
       "        8.80592954e-01, 7.64352460e-01, 8.83365965e-01, 4.16061673e-01,\n",
       "        4.13396102e-01, 3.38554253e-02, 5.71277410e-01, 6.57353775e-01,\n",
       "        4.00993910e-01, 2.62859100e-01, 6.70106204e-01, 1.78509046e-01,\n",
       "        2.72899559e-01, 9.80556201e-01, 3.42843698e-01, 9.29186356e-01,\n",
       "        8.42271545e-01, 7.11601969e-01, 2.77443687e-01, 4.23492466e-01,\n",
       "        9.44851855e-01, 3.91254207e-01, 1.20499522e-01, 3.33279704e-01,\n",
       "        3.39704447e-01, 3.58012115e-01, 4.51136325e-01, 4.42446864e-01,\n",
       "        9.37930657e-01, 3.31755876e-01, 4.15312509e-01, 2.65762827e-01],\n",
       "       [4.51575845e-01, 5.15862731e-01, 4.40276309e-01, 3.69023780e-01,\n",
       "        1.09479237e-01, 5.09706838e-01, 5.45484230e-01, 6.22326844e-01,\n",
       "        6.12029118e-01, 7.40874491e-01, 4.78976893e-01, 6.57346772e-01,\n",
       "        7.14701770e-01, 2.58361133e-01, 3.33656557e-02, 4.49689248e-01,\n",
       "        4.90709454e-01, 8.55678371e-02, 5.58072773e-01, 6.42082794e-01,\n",
       "        4.91063559e-02, 1.55286534e-01, 3.87146068e-01, 9.96704377e-02,\n",
       "        7.36843397e-01, 9.93552202e-01, 1.19142833e-01, 8.14042920e-01,\n",
       "        1.36535782e-01, 5.18274468e-01, 7.17772480e-01, 1.89764048e-01,\n",
       "        8.36246760e-02, 3.78451288e-01, 3.99543865e-01, 2.98139022e-01,\n",
       "        4.81438166e-01, 9.94458142e-02, 1.66161085e-01, 2.33923266e-01,\n",
       "        9.71421600e-01, 8.77083621e-01, 2.32421061e-01, 3.21544556e-01,\n",
       "        6.93298875e-01, 7.76171341e-01, 2.74019904e-02, 8.88331379e-01,\n",
       "        5.81048711e-01, 1.49351922e-01, 8.99969439e-01, 2.60925131e-01,\n",
       "        9.38319816e-01, 9.35611093e-01, 5.38985003e-01, 1.33608224e-01,\n",
       "        6.74759262e-01, 8.43327830e-01, 2.61552521e-01, 2.80341293e-01,\n",
       "        6.17029900e-01, 2.46399238e-01, 8.21301779e-01, 1.77077090e-01,\n",
       "        9.67473612e-01, 2.24850962e-01, 7.88047095e-01, 9.33338972e-02,\n",
       "        9.58753161e-01, 6.60134335e-01, 8.92151441e-01, 5.63612352e-01,\n",
       "        3.68320169e-01, 4.05105052e-01, 1.79420649e-01, 3.15193688e-02,\n",
       "        1.31118155e-01, 5.51681183e-01, 4.89370392e-01, 6.04726760e-01,\n",
       "        3.98831947e-01, 3.28889696e-01, 2.70766592e-02, 5.96306913e-01,\n",
       "        1.70083081e-01, 5.34226654e-01, 8.90935740e-01, 3.58954816e-01,\n",
       "        8.29496849e-01, 9.41096770e-01, 6.40295582e-01, 2.50324924e-01,\n",
       "        4.62912070e-01, 7.56318914e-01, 4.73617684e-01, 6.78720119e-02]])"
      ]
     },
     "execution_count": 7,
     "metadata": {},
     "output_type": "execute_result"
    }
   ],
   "source": [
    "res['calculation number 4']"
   ]
  },
  {
   "cell_type": "markdown",
   "metadata": {},
   "source": [
    "At this point the bison FILE is still open, which means that no file has yet been created, but instead all data has been dumped into a temporary directory. Let's check it, we should find a `test.temp` directory"
   ]
  },
  {
   "cell_type": "code",
   "execution_count": 8,
   "metadata": {},
   "outputs": [
    {
     "name": "stdout",
     "output_type": "stream",
     "text": [
      "drwxr-xr-x   4 mbruno  staff    128 Nov 23 17:18 test.temp\n"
     ]
    }
   ],
   "source": [
    "!ls -al | grep test"
   ]
  },
  {
   "cell_type": "markdown",
   "metadata": {},
   "source": [
    "Now we can close the file and therefore also eliminate the possibility to further append to it, or we can close the file as is, to a new destination, thus leaving the possibility to append more data in the future."
   ]
  },
  {
   "cell_type": "code",
   "execution_count": 9,
   "metadata": {},
   "outputs": [
    {
     "name": "stdout",
     "output_type": "stream",
     "text": [
      "-rw-r--r--   1 mbruno  staff  19939 Nov 23 17:18 test2\n"
     ]
    }
   ],
   "source": [
    "f.close(dest='test2')\n",
    "!ls -al | grep test"
   ]
  },
  {
   "cell_type": "markdown",
   "metadata": {},
   "source": [
    "Now that a single file has been created, we can import it also with the standard loading command"
   ]
  },
  {
   "cell_type": "code",
   "execution_count": 10,
   "metadata": {},
   "outputs": [
    {
     "name": "stdout",
     "output_type": "stream",
     "text": [
      "[Bison] : Reading file test2\n",
      "[Bison] : File created by mbruno at macthxbruno.local on Mon Nov 23 17:18:16 2020\n",
      "[Bison] : Read 0.0190153 MB at 20.9004 MB/s\n"
     ]
    },
    {
     "data": {
      "text/plain": [
       "dict_keys(['T', 'ncorr', 'desc', 'calculation number 0', 'calculation number 1', 'calculation number 2', 'calculation number 3', 'calculation number 4'])"
      ]
     },
     "execution_count": 10,
     "metadata": {},
     "output_type": "execute_result"
    }
   ],
   "source": [
    "res = bison.load('test2')\n",
    "res.keys()"
   ]
  },
  {
   "cell_type": "code",
   "execution_count": 11,
   "metadata": {},
   "outputs": [
    {
     "name": "stdout",
     "output_type": "stream",
     "text": [
      "rm: test: No such file or directory\n"
     ]
    }
   ],
   "source": [
    "# final clen up\n",
    "!rm -r test test2"
   ]
  }
 ],
 "metadata": {
  "kernelspec": {
   "display_name": "Python 3",
   "language": "python",
   "name": "python3"
  },
  "language_info": {
   "codemirror_mode": {
    "name": "ipython",
    "version": 3
   },
   "file_extension": ".py",
   "mimetype": "text/x-python",
   "name": "python",
   "nbconvert_exporter": "python",
   "pygments_lexer": "ipython3",
   "version": "3.7.7"
  }
 },
 "nbformat": 4,
 "nbformat_minor": 4
}
